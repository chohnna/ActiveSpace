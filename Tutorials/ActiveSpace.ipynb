{
 "cells": [
  {
   "cell_type": "markdown",
   "metadata": {},
   "source": [
    "# Configurataion interaction method with specified active space\n",
    "\n",
    "This notebook provides a detailed look of ab initio configuration method,applied to work within active space to find reasonable size of orbitals to work with."
   ]
  },
  {
   "cell_type": "code",
   "execution_count": null,
   "metadata": {
    "collapsed": true
   },
   "outputs": [],
   "source": [
   "import pyscf"
   "from pyscf import gto, scf, tdscf, cc, tddft, ao2mo"
   "from pyscf.tools import molden"
   "import matplotlib.pyplot as plt"
   "import numpy as np"
   "import scipy"
   ]
  },
 "nbformat": 4,
 "nbformat_minor": 2
}
